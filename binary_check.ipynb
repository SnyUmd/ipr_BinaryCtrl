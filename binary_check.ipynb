{
 "cells": [
  {
   "cell_type": "code",
   "execution_count": 117,
   "id": "30926d7a",
   "metadata": {},
   "outputs": [
    {
     "name": "stdout",
     "output_type": "stream",
     "text": [
      "b'\\xe3\\x81\\x82'\n",
      "bytearray(b'\\x82\\xa0')\n",
      "---------------\n",
      "97\n",
      "97\n"
     ]
    }
   ],
   "source": [
    "a_data = bytes('あ', 'UTF-8')\n",
    "print(a_data)\n",
    "\n",
    "b_data = bytearray('あ', 'shift-jis')\n",
    "print(b_data)\n",
    "\n",
    "print('---------------')\n",
    "\n",
    "b_data = bytes(b'abc')\n",
    "print(b_data[0])\n",
    "\n",
    "check = bytes([ord('a'), 99, 100])\n",
    "\n",
    "if b_data == check:\n",
    "    print('true')\n",
    "print(ord('a'))\n",
    "\n"
   ]
  },
  {
   "cell_type": "code",
   "execution_count": null,
   "id": "41f770f0",
   "metadata": {},
   "outputs": [],
   "source": []
  },
  {
   "cell_type": "code",
   "execution_count": 118,
   "id": "f14b8abd",
   "metadata": {},
   "outputs": [],
   "source": [
    "def BinaryCheck0(bin_target, bin_check_word):\n",
    "    for i in range(len(bin_target)):\n",
    "        if bin_target[i] != bin_check_word[i]:\n",
    "            print(i)\n",
    "            return False\n",
    "    return True"
   ]
  },
  {
   "cell_type": "code",
   "execution_count": 119,
   "id": "cca32d0d",
   "metadata": {},
   "outputs": [],
   "source": [
    "def BinaryCheck1(bin_target, bin_check_word):\n",
    "    result = list(range(0))\n",
    "\n",
    "\n",
    "    for i in range(len(bin_target)):\n",
    "        if bin_target[i] != bin_check_word[i]:\n",
    "            result.append([i, bin_target[i]])\n",
    "    return result"
   ]
  },
  {
   "cell_type": "code",
   "execution_count": 122,
   "id": "b1b8a2f3",
   "metadata": {},
   "outputs": [
    {
     "name": "stdout",
     "output_type": "stream",
     "text": [
      "[1, 98]\n",
      "[2, 99]\n"
     ]
    }
   ],
   "source": [
    "res = BinaryCheck1(bytes(b'abc'), bytes([ord('a'), 99, 100]))\n",
    "for a in res:\n",
    "    print(a)"
   ]
  },
  {
   "cell_type": "code",
   "execution_count": null,
   "id": "898a4327",
   "metadata": {},
   "outputs": [],
   "source": []
  }
 ],
 "metadata": {
  "kernelspec": {
   "display_name": "Python 3 (ipykernel)",
   "language": "python",
   "name": "python3"
  },
  "language_info": {
   "codemirror_mode": {
    "name": "ipython",
    "version": 3
   },
   "file_extension": ".py",
   "mimetype": "text/x-python",
   "name": "python",
   "nbconvert_exporter": "python",
   "pygments_lexer": "ipython3",
   "version": "3.9.7"
  }
 },
 "nbformat": 4,
 "nbformat_minor": 5
}
